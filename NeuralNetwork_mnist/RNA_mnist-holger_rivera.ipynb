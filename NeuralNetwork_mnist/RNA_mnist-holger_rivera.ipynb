{
 "cells": [
  {
   "cell_type": "markdown",
   "metadata": {},
   "source": [
    "# ALGORITMO DE IA-4: REDE NEURAL ARTIFICIAL"
   ]
  },
  {
   "cell_type": "markdown",
   "metadata": {},
   "source": [
    "ENUNCIADO:  \n",
    "Redes Neurais Artificiais são modelos de aprendizado de máquina que tem como inspiração o sistema nervoso dos animais. Elas têm sua estrutura composta por camadas de neurônios, os quais podem computar o valor das entradas, assim como as redes neurais biológicas. Assim, esse algoritmo é muito útil para reconhecimento de padrões e problemas de classificação.   \n",
    "Nesta primeira parte, você vai tentar implementar uma rede neural com o auxílio de bibliotecas. "
   ]
  },
  {
   "cell_type": "markdown",
   "metadata": {},
   "source": [
    "## CASO 02: DATASET MNIST"
   ]
  },
  {
   "cell_type": "raw",
   "metadata": {},
   "source": [
    "1) Importar livrarías/formatear dataset"
   ]
  },
  {
   "cell_type": "code",
   "execution_count": 49,
   "metadata": {},
   "outputs": [],
   "source": [
    "#importar livrarías\n",
    "import numpy as np\n",
    "import pandas as pd\n",
    "import keras\n",
    "from keras.datasets import mnist\n",
    "from keras.utils import np_utils"
   ]
  },
  {
   "cell_type": "code",
   "execution_count": 11,
   "metadata": {},
   "outputs": [],
   "source": [
    "#carregar conjunto de treinamento/teste\n",
    "(X_train, Y_train), (X_test, Y_test) = mnist.load_data()"
   ]
  },
  {
   "cell_type": "markdown",
   "metadata": {},
   "source": [
    "2) PREPROCESSAMENTO"
   ]
  },
  {
   "cell_type": "code",
   "execution_count": 12,
   "metadata": {},
   "outputs": [],
   "source": [
    "#Aplicar Flatten sobre os dados para obter uma matriz 2D: 784 = 28x28\n",
    "\n",
    "#conjunto de treinamento: 60'000 imagens\n",
    "x_train = X_train.reshape(60000, 784)\n",
    "\n",
    "#conjunto de teste: 10'000 imagens\n",
    "x_test = X_test.reshape(10000, 784)"
   ]
  },
  {
   "cell_type": "code",
   "execution_count": 14,
   "metadata": {},
   "outputs": [],
   "source": [
    "#converter tipos de dado para float32\n",
    "x_train = x_train.astype('float32')\n",
    "x_test = x_test.astype('float32')"
   ]
  },
  {
   "cell_type": "code",
   "execution_count": 15,
   "metadata": {},
   "outputs": [],
   "source": [
    "#standarização dos dados: x_std = (x - ux)/std(x)\n",
    "x_train = (x_train - np.mean(x_train))/np.std(x_train)\n",
    "x_test = (x_test - np.mean(x_test))/np.std(x_test)"
   ]
  },
  {
   "cell_type": "code",
   "execution_count": 31,
   "metadata": {
    "scrolled": true
   },
   "outputs": [
    {
     "name": "stdout",
     "output_type": "stream",
     "text": [
      "#Variáveis na matriz de caraterísticas:  784\n",
      "#Dim. Matriz de Caraterísticas - train:  (60000, 784)\n",
      "#Dim. Matriz de Caraterísticas - test:  (10000, 784)\n"
     ]
    }
   ],
   "source": [
    "#informação sobre a matriz de caraterísticas:\n",
    "dim_inputs = x_train.shape[1]\n",
    "print('#Variáveis na matriz de caraterísticas: ', dim_inputs)\n",
    "print('#Dim. Matriz de Caraterísticas - train: ', x_train.shape)\n",
    "print('#Dim. Matriz de Caraterísticas - test: ', x_test.shape)"
   ]
  },
  {
   "cell_type": "code",
   "execution_count": 50,
   "metadata": {},
   "outputs": [
    {
     "name": "stdout",
     "output_type": "stream",
     "text": [
      "Output train:  [0 1 2 3 4 5 6 7 8 9]\n",
      "Classes possíveis:  10\n",
      "Dim. Matriz de Saídas - train:  (60000, 10)\n",
      "Dim. Matriz de Saídas - test:  (10000, 10)\n"
     ]
    }
   ],
   "source": [
    "#visualizar saídas/classes\n",
    "print('Output train: ', np.unique(Y_train))\n",
    "\n",
    "#transformar o vetor de classes em uma matriz binária de classes [0...9]\n",
    "y_train = keras.utils.to_categorical(Y_train, len(np.unique(Y_train)))\n",
    "y_test = np_utils.to_categorical(Y_test, len(np.unique(Y_test)))\n",
    "\n",
    "#informação sobre a matriz de saídas: \n",
    "dim_outputs = len(np.unique(Y_train))\n",
    "print('Classes possíveis: ', dim_outputs)\n",
    "print('Dim. Matriz de Saídas - train: ', y_train.shape)\n",
    "print('Dim. Matriz de Saídas - test: ', y_test.shape)"
   ]
  },
  {
   "cell_type": "markdown",
   "metadata": {},
   "source": [
    "3) FASE DE APRENDIZADO"
   ]
  },
  {
   "cell_type": "code",
   "execution_count": 51,
   "metadata": {},
   "outputs": [],
   "source": [
    "#importar livrarías\n",
    "from keras.models import Sequential\n",
    "from keras.layers import Dense\n",
    "from keras.layers import Dropout\n",
    "from keras.wrappers.scikit_learn import KerasClassifier\n",
    "from sklearn.model_selection import GridSearchCV"
   ]
  },
  {
   "cell_type": "code",
   "execution_count": 52,
   "metadata": {},
   "outputs": [],
   "source": [
    "#criação da arquitetura da rede neural\n",
    "def build_classifier(optimizer, dropout1, dropout2):\n",
    "    classifier = Sequential()\n",
    "    classifier.add(Dense(units = 256, kernel_initializer = 'uniform', activation = 'relu', input_dim = dim_inputs))\n",
    "    classifier.add(Dropout(rate = dropout1))\n",
    "    classifier.add(Dense(units = 64, kernel_initializer = 'uniform', activation = 'relu'))\n",
    "    classifier.add(Dropout(rate = dropout2))\n",
    "    classifier.add(Dense(units = dim_outputs, kernel_initializer = 'uniform', activation = 'softmax'))\n",
    "    classifier.compile(optimizer = optimizer, loss = 'categorical_crossentropy', metrics = ['accuracy'])\n",
    "    return classifier\n",
    "\n",
    "#definição da arquitetura da rede\n",
    "classifier = KerasClassifier(build_fn = build_classifier)"
   ]
  },
  {
   "cell_type": "code",
   "execution_count": 53,
   "metadata": {},
   "outputs": [
    {
     "name": "stdout",
     "output_type": "stream",
     "text": [
      "Epoch 1/100\n",
      "54000/54000 [==============================] - 40s 742us/step - loss: 0.2322 - acc: 0.9287\n",
      "Epoch 2/100\n",
      "54000/54000 [==============================] - 42s 777us/step - loss: 0.1038 - acc: 0.96890s - loss: 0.1042 - ac\n",
      "Epoch 3/100\n",
      "54000/54000 [==============================] - 36s 673us/step - loss: 0.0754 - acc: 0.9766\n",
      "Epoch 4/100\n",
      "54000/54000 [==============================] - 39s 721us/step - loss: 0.0558 - acc: 0.9820\n",
      "Epoch 5/100\n",
      "54000/54000 [==============================] - 41s 761us/step - loss: 0.0477 - acc: 0.9848\n",
      "Epoch 6/100\n",
      "54000/54000 [==============================] - 41s 759us/step - loss: 0.0405 - acc: 0.9872\n",
      "Epoch 7/100\n",
      "54000/54000 [==============================] - 37s 691us/step - loss: 0.0356 - acc: 0.9887\n",
      "Epoch 8/100\n",
      "54000/54000 [==============================] - 36s 668us/step - loss: 0.0313 - acc: 0.9899 - ETA: 2s - loss: 0.0315 - - ETA: 1s - los\n",
      "Epoch 9/100\n",
      "54000/54000 [==============================] - 35s 644us/step - loss: 0.0281 - acc: 0.9914\n",
      "Epoch 10/100\n",
      "54000/54000 [==============================] - 40s 744us/step - loss: 0.0266 - acc: 0.9914\n",
      "Epoch 11/100\n",
      "54000/54000 [==============================] - 46s 860us/step - loss: 0.0249 - acc: 0.9927\n",
      "Epoch 12/100\n",
      "54000/54000 [==============================] - 41s 766us/step - loss: 0.0270 - acc: 0.9922\n",
      "Epoch 13/100\n",
      "54000/54000 [==============================] - 38s 696us/step - loss: 0.0218 - acc: 0.9932\n",
      "Epoch 14/100\n",
      "54000/54000 [==============================] - 44s 808us/step - loss: 0.0226 - acc: 0.99301s - l\n",
      "Epoch 15/100\n",
      "54000/54000 [==============================] - 36s 669us/step - loss: 0.0195 - acc: 0.9938\n",
      "Epoch 16/100\n",
      "54000/54000 [==============================] - 37s 688us/step - loss: 0.0242 - acc: 0.9934\n",
      "Epoch 17/100\n",
      "54000/54000 [==============================] - 39s 731us/step - loss: 0.0181 - acc: 0.9948\n",
      "Epoch 18/100\n",
      "54000/54000 [==============================] - 76s 1ms/step - loss: 0.0202 - acc: 0.9943: 0s - loss: 0.020\n",
      "Epoch 19/100\n",
      "54000/54000 [==============================] - 63s 1ms/step - loss: 0.0213 - acc: 0.9943\n",
      "Epoch 20/100\n",
      "54000/54000 [==============================] - 33s 608us/step - loss: 0.0192 - acc: 0.9950\n",
      "Epoch 21/100\n",
      "54000/54000 [==============================] - 38s 699us/step - loss: 0.0168 - acc: 0.9951\n",
      "Epoch 22/100\n",
      "54000/54000 [==============================] - 36s 674us/step - loss: 0.0179 - acc: 0.9950\n",
      "Epoch 23/100\n",
      "54000/54000 [==============================] - 35s 642us/step - loss: 0.0211 - acc: 0.9944\n",
      "Epoch 24/100\n",
      "54000/54000 [==============================] - 41s 756us/step - loss: 0.0155 - acc: 0.9958\n",
      "Epoch 25/100\n",
      "54000/54000 [==============================] - 39s 718us/step - loss: 0.0170 - acc: 0.9958\n",
      "Epoch 26/100\n",
      "54000/54000 [==============================] - 37s 677us/step - loss: 0.0189 - acc: 0.9953\n",
      "Epoch 27/100\n",
      "54000/54000 [==============================] - 42s 773us/step - loss: 0.0178 - acc: 0.9953\n",
      "Epoch 28/100\n",
      "54000/54000 [==============================] - 40s 738us/step - loss: 0.0165 - acc: 0.9962\n",
      "Epoch 29/100\n",
      "54000/54000 [==============================] - 37s 691us/step - loss: 0.0162 - acc: 0.9957\n",
      "Epoch 30/100\n",
      "54000/54000 [==============================] - 38s 707us/step - loss: 0.0108 - acc: 0.9970\n",
      "Epoch 31/100\n",
      "54000/54000 [==============================] - 38s 702us/step - loss: 0.0198 - acc: 0.9957\n",
      "Epoch 32/100\n",
      "54000/54000 [==============================] - 36s 674us/step - loss: 0.0156 - acc: 0.9966\n",
      "Epoch 33/100\n",
      "54000/54000 [==============================] - 41s 757us/step - loss: 0.0159 - acc: 0.9962\n",
      "Epoch 34/100\n",
      "54000/54000 [==============================] - 40s 740us/step - loss: 0.0170 - acc: 0.9962\n",
      "Epoch 35/100\n",
      "54000/54000 [==============================] - 37s 680us/step - loss: 0.0118 - acc: 0.9970\n",
      "Epoch 36/100\n",
      "54000/54000 [==============================] - 37s 687us/step - loss: 0.0115 - acc: 0.9971\n",
      "Epoch 37/100\n",
      "54000/54000 [==============================] - 40s 748us/step - loss: 0.0205 - acc: 0.9960\n",
      "Epoch 38/100\n",
      "54000/54000 [==============================] - 34s 628us/step - loss: 0.0166 - acc: 0.9962\n",
      "Epoch 39/100\n",
      "54000/54000 [==============================] - 36s 665us/step - loss: 0.0151 - acc: 0.9969\n",
      "Epoch 40/100\n",
      "54000/54000 [==============================] - 41s 758us/step - loss: 0.0156 - acc: 0.9966\n",
      "Epoch 41/100\n",
      "54000/54000 [==============================] - 37s 690us/step - loss: 0.0159 - acc: 0.99701s \n",
      "Epoch 42/100\n",
      "54000/54000 [==============================] - 36s 662us/step - loss: 0.0147 - acc: 0.9969\n",
      "Epoch 43/100\n",
      "54000/54000 [==============================] - 40s 733us/step - loss: 0.0159 - acc: 0.9970\n",
      "Epoch 44/100\n",
      "54000/54000 [==============================] - 38s 707us/step - loss: 0.0141 - acc: 0.9971\n",
      "Epoch 45/100\n",
      "54000/54000 [==============================] - 34s 626us/step - loss: 0.0152 - acc: 0.9971\n",
      "Epoch 46/100\n",
      "54000/54000 [==============================] - 39s 719us/step - loss: 0.0145 - acc: 0.9974\n",
      "Epoch 47/100\n",
      "54000/54000 [==============================] - 39s 722us/step - loss: 0.0149 - acc: 0.9975\n",
      "Epoch 48/100\n",
      "54000/54000 [==============================] - 63s 1ms/step - loss: 0.0148 - acc: 0.9971\n",
      "Epoch 49/100\n",
      "54000/54000 [==============================] - 68s 1ms/step - loss: 0.0141 - acc: 0.9974\n",
      "Epoch 50/100\n",
      "54000/54000 [==============================] - 36s 665us/step - loss: 0.0129 - acc: 0.9971\n",
      "Epoch 51/100\n",
      "54000/54000 [==============================] - 37s 692us/step - loss: 0.0163 - acc: 0.9973\n",
      "Epoch 52/100\n",
      "54000/54000 [==============================] - 39s 723us/step - loss: 0.0158 - acc: 0.9975\n",
      "Epoch 53/100\n",
      "54000/54000 [==============================] - 37s 677us/step - loss: 0.0148 - acc: 0.99746s - \n",
      "Epoch 54/100\n",
      "54000/54000 [==============================] - 33s 608us/step - loss: 0.0159 - acc: 0.9976\n",
      "Epoch 55/100\n",
      "54000/54000 [==============================] - 28s 510us/step - loss: 0.0136 - acc: 0.9976\n",
      "Epoch 56/100\n",
      "54000/54000 [==============================] - 22s 404us/step - loss: 0.0166 - acc: 0.9974\n",
      "Epoch 57/100\n",
      "54000/54000 [==============================] - 32s 593us/step - loss: 0.0209 - acc: 0.9968\n",
      "Epoch 58/100\n",
      "54000/54000 [==============================] - 42s 782us/step - loss: 0.0114 - acc: 0.9979\n",
      "Epoch 59/100\n",
      "54000/54000 [==============================] - 26s 478us/step - loss: 0.0166 - acc: 0.9971\n",
      "Epoch 60/100\n",
      "54000/54000 [==============================] - 21s 391us/step - loss: 0.0148 - acc: 0.9975\n",
      "Epoch 61/100\n",
      "54000/54000 [==============================] - 28s 521us/step - loss: 0.0165 - acc: 0.9975\n",
      "Epoch 62/100\n",
      "54000/54000 [==============================] - 21s 381us/step - loss: 0.0150 - acc: 0.9977\n",
      "Epoch 63/100\n",
      "54000/54000 [==============================] - 21s 393us/step - loss: 0.0147 - acc: 0.9977\n",
      "Epoch 64/100\n",
      "54000/54000 [==============================] - 23s 431us/step - loss: 0.0110 - acc: 0.9981\n",
      "Epoch 65/100\n",
      "54000/54000 [==============================] - 22s 405us/step - loss: 0.0188 - acc: 0.9971\n",
      "Epoch 66/100\n",
      "54000/54000 [==============================] - 46s 851us/step - loss: 0.0137 - acc: 0.9978\n",
      "Epoch 67/100\n",
      "54000/54000 [==============================] - 44s 822us/step - loss: 0.0171 - acc: 0.9975\n",
      "Epoch 68/100\n",
      "54000/54000 [==============================] - 48s 884us/step - loss: 0.0167 - acc: 0.9975\n",
      "Epoch 69/100\n",
      "54000/54000 [==============================] - 44s 813us/step - loss: 0.0173 - acc: 0.9976\n",
      "Epoch 70/100\n",
      "54000/54000 [==============================] - 47s 864us/step - loss: 0.0143 - acc: 0.9979\n",
      "Epoch 71/100\n",
      "54000/54000 [==============================] - 47s 864us/step - loss: 0.0155 - acc: 0.9976\n",
      "Epoch 72/100\n",
      "54000/54000 [==============================] - 49s 904us/step - loss: 0.0178 - acc: 0.9973\n",
      "Epoch 73/100\n",
      "54000/54000 [==============================] - 25s 464us/step - loss: 0.0120 - acc: 0.9981\n",
      "Epoch 74/100\n",
      "54000/54000 [==============================] - 26s 477us/step - loss: 0.0139 - acc: 0.9978\n",
      "Epoch 75/100\n",
      "54000/54000 [==============================] - 20s 361us/step - loss: 0.0170 - acc: 0.9977\n",
      "Epoch 76/100\n",
      "54000/54000 [==============================] - 25s 455us/step - loss: 0.0128 - acc: 0.9982\n",
      "Epoch 77/100\n",
      "54000/54000 [==============================] - 22s 404us/step - loss: 0.0225 - acc: 0.9971\n",
      "Epoch 78/100\n"
     ]
    },
    {
     "name": "stdout",
     "output_type": "stream",
     "text": [
      "54000/54000 [==============================] - 22s 398us/step - loss: 0.0140 - acc: 0.99800s - loss: 0.0142 - \n",
      "Epoch 79/100\n",
      "54000/54000 [==============================] - 26s 487us/step - loss: 0.0158 - acc: 0.9980\n",
      "Epoch 80/100\n",
      "54000/54000 [==============================] - 19s 346us/step - loss: 0.0177 - acc: 0.9976\n",
      "Epoch 81/100\n",
      "54000/54000 [==============================] - 22s 411us/step - loss: 0.0150 - acc: 0.9981\n",
      "Epoch 82/100\n",
      "54000/54000 [==============================] - 24s 446us/step - loss: 0.0164 - acc: 0.9978\n",
      "Epoch 83/100\n",
      "54000/54000 [==============================] - 20s 362us/step - loss: 0.0189 - acc: 0.9974\n",
      "Epoch 84/100\n",
      "54000/54000 [==============================] - 27s 498us/step - loss: 0.0117 - acc: 0.99851s - loss\n",
      "Epoch 85/100\n",
      "54000/54000 [==============================] - 21s 390us/step - loss: 0.0187 - acc: 0.9976\n",
      "Epoch 86/100\n",
      "54000/54000 [==============================] - 23s 434us/step - loss: 0.0182 - acc: 0.9976\n",
      "Epoch 87/100\n",
      "54000/54000 [==============================] - 23s 429us/step - loss: 0.0170 - acc: 0.9980\n",
      "Epoch 88/100\n",
      "54000/54000 [==============================] - 16s 300us/step - loss: 0.0163 - acc: 0.9980\n",
      "Epoch 89/100\n",
      "54000/54000 [==============================] - 20s 367us/step - loss: 0.0199 - acc: 0.9976\n",
      "Epoch 90/100\n",
      "54000/54000 [==============================] - 22s 402us/step - loss: 0.0181 - acc: 0.9978\n",
      "Epoch 91/100\n",
      "54000/54000 [==============================] - 17s 321us/step - loss: 0.0174 - acc: 0.9979\n",
      "Epoch 92/100\n",
      "54000/54000 [==============================] - 22s 401us/step - loss: 0.0184 - acc: 0.9978\n",
      "Epoch 93/100\n",
      "54000/54000 [==============================] - 23s 428us/step - loss: 0.0150 - acc: 0.9981\n",
      "Epoch 94/100\n",
      "54000/54000 [==============================] - 17s 316us/step - loss: 0.0254 - acc: 0.99723s - \n",
      "Epoch 95/100\n",
      "54000/54000 [==============================] - 23s 434us/step - loss: 0.0209 - acc: 0.9978\n",
      "Epoch 96/100\n",
      "54000/54000 [==============================] - 18s 336us/step - loss: 0.0176 - acc: 0.9984\n",
      "Epoch 97/100\n",
      "54000/54000 [==============================] - 15s 283us/step - loss: 0.0232 - acc: 0.9976\n",
      "Epoch 98/100\n",
      "54000/54000 [==============================] - 20s 370us/step - loss: 0.0153 - acc: 0.9981\n",
      "Epoch 99/100\n",
      "54000/54000 [==============================] - 19s 354us/step - loss: 0.0177 - acc: 0.9982\n",
      "Epoch 100/100\n",
      "54000/54000 [==============================] - 16s 293us/step - loss: 0.0221 - acc: 0.9976\n"
     ]
    },
    {
     "ename": "ValueError",
     "evalue": "Classification metrics can't handle a mix of multilabel-indicator and multiclass targets",
     "output_type": "error",
     "traceback": [
      "\u001b[1;31m---------------------------------------------------------------------------\u001b[0m",
      "\u001b[1;31mValueError\u001b[0m                                Traceback (most recent call last)",
      "\u001b[1;32m<ipython-input-53-8abbda50a62d>\u001b[0m in \u001b[0;36m<module>\u001b[1;34m()\u001b[0m\n\u001b[0;32m     14\u001b[0m                     cv = 10)\n\u001b[0;32m     15\u001b[0m \u001b[1;33m\u001b[0m\u001b[0m\n\u001b[1;32m---> 16\u001b[1;33m \u001b[0mgrid\u001b[0m \u001b[1;33m=\u001b[0m \u001b[0mgrid\u001b[0m\u001b[1;33m.\u001b[0m\u001b[0mfit\u001b[0m\u001b[1;33m(\u001b[0m\u001b[0mx_train\u001b[0m\u001b[1;33m,\u001b[0m \u001b[0my_train\u001b[0m\u001b[1;33m)\u001b[0m\u001b[1;33m\u001b[0m\u001b[0m\n\u001b[0m",
      "\u001b[1;32m~\\Anaconda3\\lib\\site-packages\\sklearn\\model_selection\\_search.py\u001b[0m in \u001b[0;36mfit\u001b[1;34m(self, X, y, groups, **fit_params)\u001b[0m\n\u001b[0;32m    637\u001b[0m                                   error_score=self.error_score)\n\u001b[0;32m    638\u001b[0m           for parameters, (train, test) in product(candidate_params,\n\u001b[1;32m--> 639\u001b[1;33m                                                    cv.split(X, y, groups)))\n\u001b[0m\u001b[0;32m    640\u001b[0m \u001b[1;33m\u001b[0m\u001b[0m\n\u001b[0;32m    641\u001b[0m         \u001b[1;31m# if one choose to see train score, \"out\" will contain train score info\u001b[0m\u001b[1;33m\u001b[0m\u001b[1;33m\u001b[0m\u001b[0m\n",
      "\u001b[1;32m~\\Anaconda3\\lib\\site-packages\\sklearn\\externals\\joblib\\parallel.py\u001b[0m in \u001b[0;36m__call__\u001b[1;34m(self, iterable)\u001b[0m\n\u001b[0;32m    777\u001b[0m             \u001b[1;31m# was dispatched. In particular this covers the edge\u001b[0m\u001b[1;33m\u001b[0m\u001b[1;33m\u001b[0m\u001b[0m\n\u001b[0;32m    778\u001b[0m             \u001b[1;31m# case of Parallel used with an exhausted iterator.\u001b[0m\u001b[1;33m\u001b[0m\u001b[1;33m\u001b[0m\u001b[0m\n\u001b[1;32m--> 779\u001b[1;33m             \u001b[1;32mwhile\u001b[0m \u001b[0mself\u001b[0m\u001b[1;33m.\u001b[0m\u001b[0mdispatch_one_batch\u001b[0m\u001b[1;33m(\u001b[0m\u001b[0miterator\u001b[0m\u001b[1;33m)\u001b[0m\u001b[1;33m:\u001b[0m\u001b[1;33m\u001b[0m\u001b[0m\n\u001b[0m\u001b[0;32m    780\u001b[0m                 \u001b[0mself\u001b[0m\u001b[1;33m.\u001b[0m\u001b[0m_iterating\u001b[0m \u001b[1;33m=\u001b[0m \u001b[1;32mTrue\u001b[0m\u001b[1;33m\u001b[0m\u001b[0m\n\u001b[0;32m    781\u001b[0m             \u001b[1;32melse\u001b[0m\u001b[1;33m:\u001b[0m\u001b[1;33m\u001b[0m\u001b[0m\n",
      "\u001b[1;32m~\\Anaconda3\\lib\\site-packages\\sklearn\\externals\\joblib\\parallel.py\u001b[0m in \u001b[0;36mdispatch_one_batch\u001b[1;34m(self, iterator)\u001b[0m\n\u001b[0;32m    623\u001b[0m                 \u001b[1;32mreturn\u001b[0m \u001b[1;32mFalse\u001b[0m\u001b[1;33m\u001b[0m\u001b[0m\n\u001b[0;32m    624\u001b[0m             \u001b[1;32melse\u001b[0m\u001b[1;33m:\u001b[0m\u001b[1;33m\u001b[0m\u001b[0m\n\u001b[1;32m--> 625\u001b[1;33m                 \u001b[0mself\u001b[0m\u001b[1;33m.\u001b[0m\u001b[0m_dispatch\u001b[0m\u001b[1;33m(\u001b[0m\u001b[0mtasks\u001b[0m\u001b[1;33m)\u001b[0m\u001b[1;33m\u001b[0m\u001b[0m\n\u001b[0m\u001b[0;32m    626\u001b[0m                 \u001b[1;32mreturn\u001b[0m \u001b[1;32mTrue\u001b[0m\u001b[1;33m\u001b[0m\u001b[0m\n\u001b[0;32m    627\u001b[0m \u001b[1;33m\u001b[0m\u001b[0m\n",
      "\u001b[1;32m~\\Anaconda3\\lib\\site-packages\\sklearn\\externals\\joblib\\parallel.py\u001b[0m in \u001b[0;36m_dispatch\u001b[1;34m(self, batch)\u001b[0m\n\u001b[0;32m    586\u001b[0m         \u001b[0mdispatch_timestamp\u001b[0m \u001b[1;33m=\u001b[0m \u001b[0mtime\u001b[0m\u001b[1;33m.\u001b[0m\u001b[0mtime\u001b[0m\u001b[1;33m(\u001b[0m\u001b[1;33m)\u001b[0m\u001b[1;33m\u001b[0m\u001b[0m\n\u001b[0;32m    587\u001b[0m         \u001b[0mcb\u001b[0m \u001b[1;33m=\u001b[0m \u001b[0mBatchCompletionCallBack\u001b[0m\u001b[1;33m(\u001b[0m\u001b[0mdispatch_timestamp\u001b[0m\u001b[1;33m,\u001b[0m \u001b[0mlen\u001b[0m\u001b[1;33m(\u001b[0m\u001b[0mbatch\u001b[0m\u001b[1;33m)\u001b[0m\u001b[1;33m,\u001b[0m \u001b[0mself\u001b[0m\u001b[1;33m)\u001b[0m\u001b[1;33m\u001b[0m\u001b[0m\n\u001b[1;32m--> 588\u001b[1;33m         \u001b[0mjob\u001b[0m \u001b[1;33m=\u001b[0m \u001b[0mself\u001b[0m\u001b[1;33m.\u001b[0m\u001b[0m_backend\u001b[0m\u001b[1;33m.\u001b[0m\u001b[0mapply_async\u001b[0m\u001b[1;33m(\u001b[0m\u001b[0mbatch\u001b[0m\u001b[1;33m,\u001b[0m \u001b[0mcallback\u001b[0m\u001b[1;33m=\u001b[0m\u001b[0mcb\u001b[0m\u001b[1;33m)\u001b[0m\u001b[1;33m\u001b[0m\u001b[0m\n\u001b[0m\u001b[0;32m    589\u001b[0m         \u001b[0mself\u001b[0m\u001b[1;33m.\u001b[0m\u001b[0m_jobs\u001b[0m\u001b[1;33m.\u001b[0m\u001b[0mappend\u001b[0m\u001b[1;33m(\u001b[0m\u001b[0mjob\u001b[0m\u001b[1;33m)\u001b[0m\u001b[1;33m\u001b[0m\u001b[0m\n\u001b[0;32m    590\u001b[0m \u001b[1;33m\u001b[0m\u001b[0m\n",
      "\u001b[1;32m~\\Anaconda3\\lib\\site-packages\\sklearn\\externals\\joblib\\_parallel_backends.py\u001b[0m in \u001b[0;36mapply_async\u001b[1;34m(self, func, callback)\u001b[0m\n\u001b[0;32m    109\u001b[0m     \u001b[1;32mdef\u001b[0m \u001b[0mapply_async\u001b[0m\u001b[1;33m(\u001b[0m\u001b[0mself\u001b[0m\u001b[1;33m,\u001b[0m \u001b[0mfunc\u001b[0m\u001b[1;33m,\u001b[0m \u001b[0mcallback\u001b[0m\u001b[1;33m=\u001b[0m\u001b[1;32mNone\u001b[0m\u001b[1;33m)\u001b[0m\u001b[1;33m:\u001b[0m\u001b[1;33m\u001b[0m\u001b[0m\n\u001b[0;32m    110\u001b[0m         \u001b[1;34m\"\"\"Schedule a func to be run\"\"\"\u001b[0m\u001b[1;33m\u001b[0m\u001b[0m\n\u001b[1;32m--> 111\u001b[1;33m         \u001b[0mresult\u001b[0m \u001b[1;33m=\u001b[0m \u001b[0mImmediateResult\u001b[0m\u001b[1;33m(\u001b[0m\u001b[0mfunc\u001b[0m\u001b[1;33m)\u001b[0m\u001b[1;33m\u001b[0m\u001b[0m\n\u001b[0m\u001b[0;32m    112\u001b[0m         \u001b[1;32mif\u001b[0m \u001b[0mcallback\u001b[0m\u001b[1;33m:\u001b[0m\u001b[1;33m\u001b[0m\u001b[0m\n\u001b[0;32m    113\u001b[0m             \u001b[0mcallback\u001b[0m\u001b[1;33m(\u001b[0m\u001b[0mresult\u001b[0m\u001b[1;33m)\u001b[0m\u001b[1;33m\u001b[0m\u001b[0m\n",
      "\u001b[1;32m~\\Anaconda3\\lib\\site-packages\\sklearn\\externals\\joblib\\_parallel_backends.py\u001b[0m in \u001b[0;36m__init__\u001b[1;34m(self, batch)\u001b[0m\n\u001b[0;32m    330\u001b[0m         \u001b[1;31m# Don't delay the application, to avoid keeping the input\u001b[0m\u001b[1;33m\u001b[0m\u001b[1;33m\u001b[0m\u001b[0m\n\u001b[0;32m    331\u001b[0m         \u001b[1;31m# arguments in memory\u001b[0m\u001b[1;33m\u001b[0m\u001b[1;33m\u001b[0m\u001b[0m\n\u001b[1;32m--> 332\u001b[1;33m         \u001b[0mself\u001b[0m\u001b[1;33m.\u001b[0m\u001b[0mresults\u001b[0m \u001b[1;33m=\u001b[0m \u001b[0mbatch\u001b[0m\u001b[1;33m(\u001b[0m\u001b[1;33m)\u001b[0m\u001b[1;33m\u001b[0m\u001b[0m\n\u001b[0m\u001b[0;32m    333\u001b[0m \u001b[1;33m\u001b[0m\u001b[0m\n\u001b[0;32m    334\u001b[0m     \u001b[1;32mdef\u001b[0m \u001b[0mget\u001b[0m\u001b[1;33m(\u001b[0m\u001b[0mself\u001b[0m\u001b[1;33m)\u001b[0m\u001b[1;33m:\u001b[0m\u001b[1;33m\u001b[0m\u001b[0m\n",
      "\u001b[1;32m~\\Anaconda3\\lib\\site-packages\\sklearn\\externals\\joblib\\parallel.py\u001b[0m in \u001b[0;36m__call__\u001b[1;34m(self)\u001b[0m\n\u001b[0;32m    129\u001b[0m \u001b[1;33m\u001b[0m\u001b[0m\n\u001b[0;32m    130\u001b[0m     \u001b[1;32mdef\u001b[0m \u001b[0m__call__\u001b[0m\u001b[1;33m(\u001b[0m\u001b[0mself\u001b[0m\u001b[1;33m)\u001b[0m\u001b[1;33m:\u001b[0m\u001b[1;33m\u001b[0m\u001b[0m\n\u001b[1;32m--> 131\u001b[1;33m         \u001b[1;32mreturn\u001b[0m \u001b[1;33m[\u001b[0m\u001b[0mfunc\u001b[0m\u001b[1;33m(\u001b[0m\u001b[1;33m*\u001b[0m\u001b[0margs\u001b[0m\u001b[1;33m,\u001b[0m \u001b[1;33m**\u001b[0m\u001b[0mkwargs\u001b[0m\u001b[1;33m)\u001b[0m \u001b[1;32mfor\u001b[0m \u001b[0mfunc\u001b[0m\u001b[1;33m,\u001b[0m \u001b[0margs\u001b[0m\u001b[1;33m,\u001b[0m \u001b[0mkwargs\u001b[0m \u001b[1;32min\u001b[0m \u001b[0mself\u001b[0m\u001b[1;33m.\u001b[0m\u001b[0mitems\u001b[0m\u001b[1;33m]\u001b[0m\u001b[1;33m\u001b[0m\u001b[0m\n\u001b[0m\u001b[0;32m    132\u001b[0m \u001b[1;33m\u001b[0m\u001b[0m\n\u001b[0;32m    133\u001b[0m     \u001b[1;32mdef\u001b[0m \u001b[0m__len__\u001b[0m\u001b[1;33m(\u001b[0m\u001b[0mself\u001b[0m\u001b[1;33m)\u001b[0m\u001b[1;33m:\u001b[0m\u001b[1;33m\u001b[0m\u001b[0m\n",
      "\u001b[1;32m~\\Anaconda3\\lib\\site-packages\\sklearn\\externals\\joblib\\parallel.py\u001b[0m in \u001b[0;36m<listcomp>\u001b[1;34m(.0)\u001b[0m\n\u001b[0;32m    129\u001b[0m \u001b[1;33m\u001b[0m\u001b[0m\n\u001b[0;32m    130\u001b[0m     \u001b[1;32mdef\u001b[0m \u001b[0m__call__\u001b[0m\u001b[1;33m(\u001b[0m\u001b[0mself\u001b[0m\u001b[1;33m)\u001b[0m\u001b[1;33m:\u001b[0m\u001b[1;33m\u001b[0m\u001b[0m\n\u001b[1;32m--> 131\u001b[1;33m         \u001b[1;32mreturn\u001b[0m \u001b[1;33m[\u001b[0m\u001b[0mfunc\u001b[0m\u001b[1;33m(\u001b[0m\u001b[1;33m*\u001b[0m\u001b[0margs\u001b[0m\u001b[1;33m,\u001b[0m \u001b[1;33m**\u001b[0m\u001b[0mkwargs\u001b[0m\u001b[1;33m)\u001b[0m \u001b[1;32mfor\u001b[0m \u001b[0mfunc\u001b[0m\u001b[1;33m,\u001b[0m \u001b[0margs\u001b[0m\u001b[1;33m,\u001b[0m \u001b[0mkwargs\u001b[0m \u001b[1;32min\u001b[0m \u001b[0mself\u001b[0m\u001b[1;33m.\u001b[0m\u001b[0mitems\u001b[0m\u001b[1;33m]\u001b[0m\u001b[1;33m\u001b[0m\u001b[0m\n\u001b[0m\u001b[0;32m    132\u001b[0m \u001b[1;33m\u001b[0m\u001b[0m\n\u001b[0;32m    133\u001b[0m     \u001b[1;32mdef\u001b[0m \u001b[0m__len__\u001b[0m\u001b[1;33m(\u001b[0m\u001b[0mself\u001b[0m\u001b[1;33m)\u001b[0m\u001b[1;33m:\u001b[0m\u001b[1;33m\u001b[0m\u001b[0m\n",
      "\u001b[1;32m~\\Anaconda3\\lib\\site-packages\\sklearn\\model_selection\\_validation.py\u001b[0m in \u001b[0;36m_fit_and_score\u001b[1;34m(estimator, X, y, scorer, train, test, verbose, parameters, fit_params, return_train_score, return_parameters, return_n_test_samples, return_times, error_score)\u001b[0m\n\u001b[0;32m    486\u001b[0m         \u001b[0mfit_time\u001b[0m \u001b[1;33m=\u001b[0m \u001b[0mtime\u001b[0m\u001b[1;33m.\u001b[0m\u001b[0mtime\u001b[0m\u001b[1;33m(\u001b[0m\u001b[1;33m)\u001b[0m \u001b[1;33m-\u001b[0m \u001b[0mstart_time\u001b[0m\u001b[1;33m\u001b[0m\u001b[0m\n\u001b[0;32m    487\u001b[0m         \u001b[1;31m# _score will return dict if is_multimetric is True\u001b[0m\u001b[1;33m\u001b[0m\u001b[1;33m\u001b[0m\u001b[0m\n\u001b[1;32m--> 488\u001b[1;33m         \u001b[0mtest_scores\u001b[0m \u001b[1;33m=\u001b[0m \u001b[0m_score\u001b[0m\u001b[1;33m(\u001b[0m\u001b[0mestimator\u001b[0m\u001b[1;33m,\u001b[0m \u001b[0mX_test\u001b[0m\u001b[1;33m,\u001b[0m \u001b[0my_test\u001b[0m\u001b[1;33m,\u001b[0m \u001b[0mscorer\u001b[0m\u001b[1;33m,\u001b[0m \u001b[0mis_multimetric\u001b[0m\u001b[1;33m)\u001b[0m\u001b[1;33m\u001b[0m\u001b[0m\n\u001b[0m\u001b[0;32m    489\u001b[0m         \u001b[0mscore_time\u001b[0m \u001b[1;33m=\u001b[0m \u001b[0mtime\u001b[0m\u001b[1;33m.\u001b[0m\u001b[0mtime\u001b[0m\u001b[1;33m(\u001b[0m\u001b[1;33m)\u001b[0m \u001b[1;33m-\u001b[0m \u001b[0mstart_time\u001b[0m \u001b[1;33m-\u001b[0m \u001b[0mfit_time\u001b[0m\u001b[1;33m\u001b[0m\u001b[0m\n\u001b[0;32m    490\u001b[0m         \u001b[1;32mif\u001b[0m \u001b[0mreturn_train_score\u001b[0m\u001b[1;33m:\u001b[0m\u001b[1;33m\u001b[0m\u001b[0m\n",
      "\u001b[1;32m~\\Anaconda3\\lib\\site-packages\\sklearn\\model_selection\\_validation.py\u001b[0m in \u001b[0;36m_score\u001b[1;34m(estimator, X_test, y_test, scorer, is_multimetric)\u001b[0m\n\u001b[0;32m    521\u001b[0m     \"\"\"\n\u001b[0;32m    522\u001b[0m     \u001b[1;32mif\u001b[0m \u001b[0mis_multimetric\u001b[0m\u001b[1;33m:\u001b[0m\u001b[1;33m\u001b[0m\u001b[0m\n\u001b[1;32m--> 523\u001b[1;33m         \u001b[1;32mreturn\u001b[0m \u001b[0m_multimetric_score\u001b[0m\u001b[1;33m(\u001b[0m\u001b[0mestimator\u001b[0m\u001b[1;33m,\u001b[0m \u001b[0mX_test\u001b[0m\u001b[1;33m,\u001b[0m \u001b[0my_test\u001b[0m\u001b[1;33m,\u001b[0m \u001b[0mscorer\u001b[0m\u001b[1;33m)\u001b[0m\u001b[1;33m\u001b[0m\u001b[0m\n\u001b[0m\u001b[0;32m    524\u001b[0m     \u001b[1;32melse\u001b[0m\u001b[1;33m:\u001b[0m\u001b[1;33m\u001b[0m\u001b[0m\n\u001b[0;32m    525\u001b[0m         \u001b[1;32mif\u001b[0m \u001b[0my_test\u001b[0m \u001b[1;32mis\u001b[0m \u001b[1;32mNone\u001b[0m\u001b[1;33m:\u001b[0m\u001b[1;33m\u001b[0m\u001b[0m\n",
      "\u001b[1;32m~\\Anaconda3\\lib\\site-packages\\sklearn\\model_selection\\_validation.py\u001b[0m in \u001b[0;36m_multimetric_score\u001b[1;34m(estimator, X_test, y_test, scorers)\u001b[0m\n\u001b[0;32m    551\u001b[0m             \u001b[0mscore\u001b[0m \u001b[1;33m=\u001b[0m \u001b[0mscorer\u001b[0m\u001b[1;33m(\u001b[0m\u001b[0mestimator\u001b[0m\u001b[1;33m,\u001b[0m \u001b[0mX_test\u001b[0m\u001b[1;33m)\u001b[0m\u001b[1;33m\u001b[0m\u001b[0m\n\u001b[0;32m    552\u001b[0m         \u001b[1;32melse\u001b[0m\u001b[1;33m:\u001b[0m\u001b[1;33m\u001b[0m\u001b[0m\n\u001b[1;32m--> 553\u001b[1;33m             \u001b[0mscore\u001b[0m \u001b[1;33m=\u001b[0m \u001b[0mscorer\u001b[0m\u001b[1;33m(\u001b[0m\u001b[0mestimator\u001b[0m\u001b[1;33m,\u001b[0m \u001b[0mX_test\u001b[0m\u001b[1;33m,\u001b[0m \u001b[0my_test\u001b[0m\u001b[1;33m)\u001b[0m\u001b[1;33m\u001b[0m\u001b[0m\n\u001b[0m\u001b[0;32m    554\u001b[0m \u001b[1;33m\u001b[0m\u001b[0m\n\u001b[0;32m    555\u001b[0m         \u001b[1;32mif\u001b[0m \u001b[0mhasattr\u001b[0m\u001b[1;33m(\u001b[0m\u001b[0mscore\u001b[0m\u001b[1;33m,\u001b[0m \u001b[1;34m'item'\u001b[0m\u001b[1;33m)\u001b[0m\u001b[1;33m:\u001b[0m\u001b[1;33m\u001b[0m\u001b[0m\n",
      "\u001b[1;32m~\\Anaconda3\\lib\\site-packages\\sklearn\\metrics\\scorer.py\u001b[0m in \u001b[0;36m__call__\u001b[1;34m(self, estimator, X, y_true, sample_weight)\u001b[0m\n\u001b[0;32m    106\u001b[0m         \u001b[1;32melse\u001b[0m\u001b[1;33m:\u001b[0m\u001b[1;33m\u001b[0m\u001b[0m\n\u001b[0;32m    107\u001b[0m             return self._sign * self._score_func(y_true, y_pred,\n\u001b[1;32m--> 108\u001b[1;33m                                                  **self._kwargs)\n\u001b[0m\u001b[0;32m    109\u001b[0m \u001b[1;33m\u001b[0m\u001b[0m\n\u001b[0;32m    110\u001b[0m \u001b[1;33m\u001b[0m\u001b[0m\n",
      "\u001b[1;32m~\\Anaconda3\\lib\\site-packages\\sklearn\\metrics\\classification.py\u001b[0m in \u001b[0;36maccuracy_score\u001b[1;34m(y_true, y_pred, normalize, sample_weight)\u001b[0m\n\u001b[0;32m    174\u001b[0m \u001b[1;33m\u001b[0m\u001b[0m\n\u001b[0;32m    175\u001b[0m     \u001b[1;31m# Compute accuracy for each possible representation\u001b[0m\u001b[1;33m\u001b[0m\u001b[1;33m\u001b[0m\u001b[0m\n\u001b[1;32m--> 176\u001b[1;33m     \u001b[0my_type\u001b[0m\u001b[1;33m,\u001b[0m \u001b[0my_true\u001b[0m\u001b[1;33m,\u001b[0m \u001b[0my_pred\u001b[0m \u001b[1;33m=\u001b[0m \u001b[0m_check_targets\u001b[0m\u001b[1;33m(\u001b[0m\u001b[0my_true\u001b[0m\u001b[1;33m,\u001b[0m \u001b[0my_pred\u001b[0m\u001b[1;33m)\u001b[0m\u001b[1;33m\u001b[0m\u001b[0m\n\u001b[0m\u001b[0;32m    177\u001b[0m     \u001b[1;32mif\u001b[0m \u001b[0my_type\u001b[0m\u001b[1;33m.\u001b[0m\u001b[0mstartswith\u001b[0m\u001b[1;33m(\u001b[0m\u001b[1;34m'multilabel'\u001b[0m\u001b[1;33m)\u001b[0m\u001b[1;33m:\u001b[0m\u001b[1;33m\u001b[0m\u001b[0m\n\u001b[0;32m    178\u001b[0m         \u001b[0mdiffering_labels\u001b[0m \u001b[1;33m=\u001b[0m \u001b[0mcount_nonzero\u001b[0m\u001b[1;33m(\u001b[0m\u001b[0my_true\u001b[0m \u001b[1;33m-\u001b[0m \u001b[0my_pred\u001b[0m\u001b[1;33m,\u001b[0m \u001b[0maxis\u001b[0m\u001b[1;33m=\u001b[0m\u001b[1;36m1\u001b[0m\u001b[1;33m)\u001b[0m\u001b[1;33m\u001b[0m\u001b[0m\n",
      "\u001b[1;32m~\\Anaconda3\\lib\\site-packages\\sklearn\\metrics\\classification.py\u001b[0m in \u001b[0;36m_check_targets\u001b[1;34m(y_true, y_pred)\u001b[0m\n\u001b[0;32m     79\u001b[0m     \u001b[1;32mif\u001b[0m \u001b[0mlen\u001b[0m\u001b[1;33m(\u001b[0m\u001b[0my_type\u001b[0m\u001b[1;33m)\u001b[0m \u001b[1;33m>\u001b[0m \u001b[1;36m1\u001b[0m\u001b[1;33m:\u001b[0m\u001b[1;33m\u001b[0m\u001b[0m\n\u001b[0;32m     80\u001b[0m         raise ValueError(\"Classification metrics can't handle a mix of {0} \"\n\u001b[1;32m---> 81\u001b[1;33m                          \"and {1} targets\".format(type_true, type_pred))\n\u001b[0m\u001b[0;32m     82\u001b[0m \u001b[1;33m\u001b[0m\u001b[0m\n\u001b[0;32m     83\u001b[0m     \u001b[1;31m# We can't have more than one value on y_type => The set is no more needed\u001b[0m\u001b[1;33m\u001b[0m\u001b[1;33m\u001b[0m\u001b[0m\n",
      "\u001b[1;31mValueError\u001b[0m: Classification metrics can't handle a mix of multilabel-indicator and multiclass targets"
     ]
    }
   ],
   "source": [
    "#processo de hyperparameter tuning\n",
    "parameters = {\n",
    "    'batch_size' : [20, 30, 50, 100], \n",
    "    'epochs' : [100, 300, 500, 1000, 2000], \n",
    "    'optimizer' : ['adam', 'RMSprop', 'SGD', 'adagrad'],\n",
    "    'dropout1' : [0.0, 0.1, 0.2, 0.3, 0.4, 0.5],\n",
    "    'dropout2' : [0.0, 0.1, 0.2, 0.3, 0.4, 0.5]\n",
    "}\n",
    "\n",
    "#geração da Grid em K-folds cross-validation\n",
    "grid = GridSearchCV(estimator = classifier, \n",
    "                    param_grid = parameters, \n",
    "                    scoring = 'accuracy', \n",
    "                    cv = 10)\n",
    "\n",
    "grid = grid.fit(x_train, y_train)"
   ]
  },
  {
   "cell_type": "code",
   "execution_count": 55,
   "metadata": {},
   "outputs": [
    {
     "ename": "AttributeError",
     "evalue": "'GridSearchCV' object has no attribute 'best_params_'",
     "output_type": "error",
     "traceback": [
      "\u001b[1;31m---------------------------------------------------------------------------\u001b[0m",
      "\u001b[1;31mAttributeError\u001b[0m                            Traceback (most recent call last)",
      "\u001b[1;32m<ipython-input-55-28c2e4d7952c>\u001b[0m in \u001b[0;36m<module>\u001b[1;34m()\u001b[0m\n\u001b[1;32m----> 1\u001b[1;33m \u001b[0mgrid\u001b[0m\u001b[1;33m.\u001b[0m\u001b[0mbest_params_\u001b[0m\u001b[1;33m\u001b[0m\u001b[0m\n\u001b[0m",
      "\u001b[1;31mAttributeError\u001b[0m: 'GridSearchCV' object has no attribute 'best_params_'"
     ]
    }
   ],
   "source": [
    "grid.best_params_"
   ]
  },
  {
   "cell_type": "code",
   "execution_count": null,
   "metadata": {},
   "outputs": [],
   "source": []
  }
 ],
 "metadata": {
  "kernelspec": {
   "display_name": "Python 3",
   "language": "python",
   "name": "python3"
  },
  "language_info": {
   "codemirror_mode": {
    "name": "ipython",
    "version": 3
   },
   "file_extension": ".py",
   "mimetype": "text/x-python",
   "name": "python",
   "nbconvert_exporter": "python",
   "pygments_lexer": "ipython3",
   "version": "3.6.5"
  }
 },
 "nbformat": 4,
 "nbformat_minor": 2
}
