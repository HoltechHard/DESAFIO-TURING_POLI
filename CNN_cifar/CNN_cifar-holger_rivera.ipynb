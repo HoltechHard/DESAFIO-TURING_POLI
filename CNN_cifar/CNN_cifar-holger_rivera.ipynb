{
 "cells": [
  {
   "cell_type": "markdown",
   "metadata": {},
   "source": [
    "# ALGORITMO DE IA-4: REDE NEURAL CONVOLUCIONAL (CNN)"
   ]
  },
  {
   "cell_type": "markdown",
   "metadata": {},
   "source": [
    "ENUNCIADO:  \n",
    "Implementar uma Rede Neural Convolucional (CNN) usando as bibliotecas TensorFlow e Keras"
   ]
  },
  {
   "cell_type": "markdown",
   "metadata": {},
   "source": [
    "# CASO 03: DATASET CIFAR"
   ]
  },
  {
   "cell_type": "markdown",
   "metadata": {},
   "source": [
    "CIFAR-10 é um conjunto de dados que consiste em 60'000 imagens coloridas de 32x32 distribuidas em 10 classes, 6'000 imagens por classe. São 50'000 imagens no conjunto de treinamento e 10'000 imagens para teste"
   ]
  },
  {
   "cell_type": "markdown",
   "metadata": {},
   "source": [
    "1) Importar livrarías/formatear dataset"
   ]
  },
  {
   "cell_type": "code",
   "execution_count": 60,
   "metadata": {},
   "outputs": [],
   "source": [
    "#importar livrarías\n",
    "import pandas as pd\n",
    "import numpy as np\n",
    "import keras\n",
    "from keras.datasets import cifar10\n",
    "from keras.utils import np_utils\n",
    "from scipy.misc import toimage"
   ]
  },
  {
   "cell_type": "code",
   "execution_count": 61,
   "metadata": {},
   "outputs": [],
   "source": [
    "#carregar conjunto de treinamento/teste\n",
    "(X_train, Y_train), (X_test, Y_test) = cifar10.load_data()"
   ]
  },
  {
   "cell_type": "markdown",
   "metadata": {},
   "source": [
    "2) FASE DE PREPROCESSAMENTO"
   ]
  },
  {
   "cell_type": "code",
   "execution_count": 64,
   "metadata": {},
   "outputs": [],
   "source": [
    "#Aplicar redimensionamento sobre os dados para obter uma matriz [#samples] x [width] x [weight] x [channels]\n",
    "\n",
    "#conjunto de treinamento\n",
    "x_train = X_train.reshape(X_train.shape[0], 32, 32, 3)\n",
    "\n",
    "#conjunto de teste\n",
    "x_test = X_test.reshape(X_test.shape[0], 32, 32, 3)"
   ]
  },
  {
   "cell_type": "code",
   "execution_count": 65,
   "metadata": {},
   "outputs": [],
   "source": [
    "#converter os tipos de dado para float32\n",
    "x_train = x_train.astype('float32')\n",
    "x_test = x_test.astype('float32')"
   ]
  },
  {
   "cell_type": "code",
   "execution_count": 66,
   "metadata": {},
   "outputs": [],
   "source": [
    "#standarização dos dados: x_std = (x-ux)/std(x)\n",
    "x_train = (x_train - np.mean(x_train))/np.std(x_train)\n",
    "x_test = (x_test - np.mean(x_test))/np.std(x_test)"
   ]
  },
  {
   "cell_type": "code",
   "execution_count": 67,
   "metadata": {},
   "outputs": [
    {
     "name": "stdout",
     "output_type": "stream",
     "text": [
      "#Variáveis na matriz de caraterísticas:  96\n",
      "#Dim. Matriz de Caraterísticas - train:  (50000, 32, 32, 3)\n",
      "#Dim. Matriz de Caraterísticas - test:  (10000, 32, 32, 3)\n"
     ]
    }
   ],
   "source": [
    "#informação sobre a matriz de caraterísticas:\n",
    "dim_inputs = x_train.shape[2] * x_train.shape[3]\n",
    "print('#Variáveis na matriz de caraterísticas: ', dim_inputs)\n",
    "print('#Dim. Matriz de Caraterísticas - train: ', x_train.shape)\n",
    "print('#Dim. Matriz de Caraterísticas - test: ', x_test.shape)"
   ]
  },
  {
   "cell_type": "code",
   "execution_count": 68,
   "metadata": {},
   "outputs": [
    {
     "name": "stdout",
     "output_type": "stream",
     "text": [
      "Output train:  [0 1 2 3 4 5 6 7 8 9]\n",
      "Classes possíveis:  10\n",
      "Dim. Matriz de Saídas - train:  (50000, 10)\n",
      "Dim. Matriz de Saídas - test:  (10000, 10)\n"
     ]
    }
   ],
   "source": [
    "#visualizar saídas/classes\n",
    "print('Output train: ', np.unique(Y_train))\n",
    "\n",
    "#transformar o vetor de classes em uma matriz binária de classes [0...9]\n",
    "y_train = keras.utils.to_categorical(Y_train, len(np.unique(Y_train)))\n",
    "y_test = keras.utils.to_categorical(Y_test, len(np.unique(Y_test)))\n",
    "\n",
    "#informação sobre a matriz de saídas: \n",
    "dim_outputs = len(np.unique(Y_train))\n",
    "print('Classes possíveis: ', dim_outputs)\n",
    "print('Dim. Matriz de Saídas - train: ', y_train.shape)\n",
    "print('Dim. Matriz de Saídas - test: ', y_test.shape)"
   ]
  },
  {
   "cell_type": "markdown",
   "metadata": {},
   "source": [
    "3) FASE DE APRENDIZADO"
   ]
  },
  {
   "cell_type": "code",
   "execution_count": 69,
   "metadata": {},
   "outputs": [],
   "source": [
    "#importar livrarías\n",
    "from keras.models import Sequential\n",
    "from keras.layers import Convolution2D\n",
    "from keras.layers import MaxPooling2D\n",
    "from keras.layers import Flatten\n",
    "from keras.layers import Dropout\n",
    "from keras.layers import Dense\n",
    "from keras.layers.normalization import BatchNormalization"
   ]
  },
  {
   "cell_type": "markdown",
   "metadata": {},
   "source": [
    "Define-se a seguinte arquitetura de Rede Neural Convolucional para o CIFAR-10:"
   ]
  },
  {
   "cell_type": "markdown",
   "metadata": {},
   "source": [
    "![title](img/cifar2.png)"
   ]
  },
  {
   "cell_type": "markdown",
   "metadata": {},
   "source": [
    "![title](img/cifar3.png)"
   ]
  },
  {
   "cell_type": "code",
   "execution_count": 70,
   "metadata": {},
   "outputs": [],
   "source": [
    "#criar arquitetura do modelo\n",
    "\n",
    "#inicializar modelo\n",
    "classifier = Sequential()\n",
    "\n",
    "#1° Camada Convolucional\n",
    "classifier.add(Convolution2D(filters = 32, kernel_size = (5, 5), strides = (1, 1), input_shape = (32, 32, 3), \n",
    "                             padding = 'same', activation = 'relu'))\n",
    "#1° Camada Max-Pooling\n",
    "classifier.add(MaxPooling2D(pool_size = (2, 2), strides = (2, 2)))\n",
    "\n",
    "#2° Camada Convolucional\n",
    "classifier.add(Convolution2D(filters = 32, kernel_size = (5, 5), strides = (1, 1)\n",
    "                             padding = 'same', activation = 'relu'))\n",
    "#Normalização em Batch\n",
    "classifier.add(BatchNormalization())\n",
    "\n",
    "#2° Camada Max-Pooling\n",
    "classifier.add(MaxPooling2D(pool_size = (2, 2), strides = (2, 2)))\n",
    "\n",
    "#Dropout\n",
    "classifier.add(Dropout(0.3))\n",
    "\n",
    "#Flattening\n",
    "classifier.add(Flatten())\n",
    "\n",
    "#Rede Neural Fully-connected\n",
    "classifier.add(Dense(units = 240, activation = 'relu'))\n",
    "classifier.add(Dense(units = 64, activation = 'relu'))\n",
    "classifier.add(Dense(units = dim_outputs, activation = 'softmax'))\n",
    "\n",
    "#Compilar CNN\n",
    "classifier.compile(optimizer = 'adagrad', loss = 'categorical_crossentropy', metrics = ['accuracy'])\n"
   ]
  },
  {
   "cell_type": "code",
   "execution_count": 72,
   "metadata": {
    "scrolled": true
   },
   "outputs": [
    {
     "name": "stdout",
     "output_type": "stream",
     "text": [
      "Train on 50000 samples, validate on 10000 samples\n",
      "Epoch 1/10\n",
      "50000/50000 [==============================] - 385s 8ms/step - loss: 1.2213 - acc: 0.5657 - val_loss: 1.2187 - val_acc: 0.5739\n",
      "Epoch 2/10\n",
      "50000/50000 [==============================] - 407s 8ms/step - loss: 1.0486 - acc: 0.6282 - val_loss: 1.0239 - val_acc: 0.6298\n",
      "Epoch 3/10\n",
      "50000/50000 [==============================] - 402s 8ms/step - loss: 0.9360 - acc: 0.6692 - val_loss: 0.9468 - val_acc: 0.6644\n",
      "Epoch 4/10\n",
      "50000/50000 [==============================] - 414s 8ms/step - loss: 0.8565 - acc: 0.6961 - val_loss: 0.9129 - val_acc: 0.6758\n",
      "Epoch 5/10\n",
      "50000/50000 [==============================] - 432s 9ms/step - loss: 0.7887 - acc: 0.7225 - val_loss: 0.9017 - val_acc: 0.6870\n",
      "Epoch 6/10\n",
      "50000/50000 [==============================] - 414s 8ms/step - loss: 0.7352 - acc: 0.7403 - val_loss: 0.8701 - val_acc: 0.6968\n",
      "Epoch 7/10\n",
      "50000/50000 [==============================] - 411s 8ms/step - loss: 0.6856 - acc: 0.7587 - val_loss: 0.9017 - val_acc: 0.6901\n",
      "Epoch 8/10\n",
      "50000/50000 [==============================] - 573s 11ms/step - loss: 0.6456 - acc: 0.7720 - val_loss: 0.8206 - val_acc: 0.7157\n",
      "Epoch 9/10\n",
      "50000/50000 [==============================] - 924s 18ms/step - loss: 0.6072 - acc: 0.7888 - val_loss: 0.8191 - val_acc: 0.7235\n",
      "Epoch 10/10\n",
      "50000/50000 [==============================] - 926s 19ms/step - loss: 0.5738 - acc: 0.8003 - val_loss: 0.8043 - val_acc: 0.7255\n"
     ]
    },
    {
     "data": {
      "text/plain": [
       "<keras.callbacks.History at 0x1e8915ac7f0>"
      ]
     },
     "execution_count": 72,
     "metadata": {},
     "output_type": "execute_result"
    }
   ],
   "source": [
    "#treinamento do modelo\n",
    "classifier.fit(x_train, y_train, batch_size = 200, epochs = 10, validation_data = (x_test, y_test))"
   ]
  },
  {
   "cell_type": "markdown",
   "metadata": {},
   "source": [
    "4) FASE DE AVALIAÇÃO"
   ]
  },
  {
   "cell_type": "code",
   "execution_count": 74,
   "metadata": {},
   "outputs": [
    {
     "name": "stdout",
     "output_type": "stream",
     "text": [
      "50000/50000 [==============================] - 333s 7ms/step\n",
      "Acurácia-train:  86.194 %\n"
     ]
    }
   ],
   "source": [
    "#cálculo da acurácia no conjunto de treino\n",
    "score_train = classifier.evaluate(x_train, y_train)\n",
    "print('Acurácia-train: ', 100*score_train[1], '%')"
   ]
  },
  {
   "cell_type": "code",
   "execution_count": 73,
   "metadata": {},
   "outputs": [
    {
     "name": "stdout",
     "output_type": "stream",
     "text": [
      "10000/10000 [==============================] - 61s 6ms/step\n",
      "Acurácia-test:  72.55 %\n"
     ]
    }
   ],
   "source": [
    "#cálculo da acurácia no conjunto de teste\n",
    "score_test = classifier.evaluate(x_test, y_test)\n",
    "print('Acurácia-test: ', 100*score_test[1], '%')"
   ]
  },
  {
   "cell_type": "markdown",
   "metadata": {},
   "source": [
    "5) CONCLUSÕES:  \n",
    "- Acurácia no conjunto de treinamento: 86.19%\n",
    "- Acurácia no conjunto de teste: 72.55%\n",
    "- O desempenho do modelo CNN pode ser melhorado fazendo hypeparameter tuning, \n",
    "porém recomenda-se melhor hardware para processamento computacional (GPUs)"
   ]
  }
 ],
 "metadata": {
  "kernelspec": {
   "display_name": "Python 3",
   "language": "python",
   "name": "python3"
  },
  "language_info": {
   "codemirror_mode": {
    "name": "ipython",
    "version": 3
   },
   "file_extension": ".py",
   "mimetype": "text/x-python",
   "name": "python",
   "nbconvert_exporter": "python",
   "pygments_lexer": "ipython3",
   "version": "3.6.5"
  }
 },
 "nbformat": 4,
 "nbformat_minor": 2
}
